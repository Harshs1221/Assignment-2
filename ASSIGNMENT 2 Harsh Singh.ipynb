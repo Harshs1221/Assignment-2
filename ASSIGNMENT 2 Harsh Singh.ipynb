{
 "cells": [
  {
   "cell_type": "markdown",
   "id": "3bf109b1-729c-4280-90a5-a875e680ad3b",
   "metadata": {},
   "source": [
    "#Q1.  What are data structures, and why are they important?\n",
    "\n",
    "ANS1. It is the way of organizing and storing the data so that it can be accessed and manipultaed efficiently.\n",
    "      Some common data structures are list, tuple, set, dictionaries, string, array.\n",
    "\n",
    "      Data structure are important because they help in:\n",
    "      - Efficiency : They allow for efficient data manipulation and retrieval.\n",
    "      - Organization : They help in organizing the data.\n",
    "      - Scalability : They enable handling large amounts of data effectively.\n",
    "      - Reusability: They provide reusable components for common data manipulation tasks.\n",
    "      "
   ]
  },
  {
   "cell_type": "markdown",
   "id": "82cbea2d-aa53-4299-8219-a9bd30e2a2c6",
   "metadata": {},
   "source": [
    "#Q2. Explain the difference between mutable and immutable data types with examples.\n",
    "\n",
    "Ans2. Mutable data type :\n",
    "\n",
    "                    Mutable data types are those whose value can be modified after they are created.\n",
    "                    This means you can change, add and remove the elements without creating new object.\n",
    "                    Mutable data types are list, set, dictionaries.\n",
    "\n",
    "      Immutable data type: \n",
    "                    Immutable data types are those whose value cannot be changed after they are created.\n",
    "                    Immutable data types are: tuple, string, integers\n",
    " "
   ]
  },
  {
   "cell_type": "markdown",
   "id": "aa05bafd-d407-4711-822c-a18c4e002964",
   "metadata": {},
   "source": [
    "#Q3. What are the main differences between lists and tuples in Python?\n",
    "\n",
    "ANS3. Lists and tuple both are used to store collection of items in python.\n",
    "\n",
    "      The main differences between lists and tuples are:\n",
    "      - Lists are mutable. We can add, remove and change the elements in lists after they are created.\n",
    "      - Tuples are immutable data type. We can not do modifications in tuple.\n",
    "      - List are defined using square bracket []. \n",
    "      - Tuple are defined using parantheses (). \n",
    "      - Tuple is faster than list when comes to iteration and access beacuse theire immutabilty.\n",
    "      - Tuple is used when you want to store a fixed data records.\n",
    "      - List is preferred when you need a collction of items that may change overtime."
   ]
  },
  {
   "cell_type": "markdown",
   "id": "db9a4762-aa55-48d1-a89f-00f5bd8881d0",
   "metadata": {},
   "source": [
    "#Q4. Describe how dictionaries store data.\n",
    "\n",
    "ANS4. Dictionaries is a data structure that stores the data as a key value pair.\n",
    "      In dictionaries keys are unique and immutable.\n",
    "      Syntax - {key: value} "
   ]
  },
  {
   "cell_type": "markdown",
   "id": "64b59199-7a34-4851-9b1d-f32182c45002",
   "metadata": {},
   "source": [
    "#Q5.  Why might you use a set instead of a list in Python?\n",
    "\n",
    "ANS5. - Set is used instead of list because set automatically ensure that all elements are unique. Set doesn't \n",
    "        allow duplication of data.\n",
    "        \n",
    "      - Sets support mathematical operation like union, intersection, difference and symmetric \n",
    "      difference,which are not directly available with lists. These operations are usefull\n",
    "      for comparisons and combinations of collection."
   ]
  },
  {
   "cell_type": "markdown",
   "id": "0cd0fcfd-9c7a-4c5f-ad88-4950d4d7c128",
   "metadata": {},
   "source": [
    "#Q6.  What is a string in Python, and how is it different from a list.\n",
    "\n",
    "ANS6. String is a sequence of characters.\n",
    "\n",
    "      Difference between string and lists are\n",
    "      \n",
    "      - Syntax : \n",
    "                 String is enclosed in single quotes ' ', double quotes \" \", or triple quotes ''' '''.\n",
    "                 Lists are defined using square bracket [].         \n",
    "      - Mutability :  \n",
    "                 String are immutable in nature cannot be changed after they are created.\n",
    "                 Lists are mutable in nature. We can add, remove and changed the elements in lists.\n",
    "      - Data type :\n",
    "                 String contain only characters.\n",
    "                 List is a collection of data. we can store any data type in list like string,\n",
    "                 numbers, tuple, set etc.\n",
    "      - Operation:\n",
    "                 String supports operation like concatenation, slicing and formatting.\n",
    "                 List support appending, removing and inserting elements."
   ]
  },
  {
   "cell_type": "code",
   "execution_count": null,
   "id": "447d333c-edaf-4989-a4f7-e71a616ce54c",
   "metadata": {},
   "outputs": [],
   "source": [
    "#Q7.  How do tuples ensure data integrity in Python.\n",
    "\n",
    "'''Ans7.  Tuples are collection of data. Once tuple is created, its elements can not be changed, added and\n",
    "      removed this ensures data integrity in python. (Data integrity - refers to the accuracy,\n",
    "      consistency and reliablity of data throuhout its lifecycle.)\n",
    "       \n",
    "      - Consistency:\n",
    "                Since tuple can not be modified, the data remain consistent throughout the program.\n",
    "      - Reliability:\n",
    "                The immutability of tuple make them reliable.  \n",
    "      - Hashability: \n",
    "                Tuples can be used as key in dictionries because they are hashable means the content\n",
    "                of tuple can not be changed, ensuring the key remain valid throughout the program.\n",
    "      - Thread safety:\n",
    "                Tuples are inherently thread safe because they cannot be modified.'''"
   ]
  },
  {
   "cell_type": "markdown",
   "id": "88691dfd-8683-47fb-a0a0-3515c25b043b",
   "metadata": {},
   "source": [
    "#Q8. What is a hash table, and how does it relate to dictionaries in Python.\n",
    "\n",
    "Ans8.  \n",
    "\n",
    "      Hash table is a data structure that stores key-value pairs. It uses a hash function to\n",
    "      compute an index into an array of buckets or slots, from which the desired value can be\n",
    "       found.\n",
    "       How does it work?\n",
    "       - Hash function: When you insert a key value pair into the table, the key passed \n",
    "                        through the hash function. This function convert the key into \n",
    "                        hash code, which is the index of an array.\n",
    "        - Storing values:\n",
    "                        The value is tored in the array at the position indicated by\n",
    "                        the hash code.\n",
    "        - Retrieving Values:\n",
    "                        To retriever the value, the key is passed through the hash\n",
    "                        function again to get the hash code, and the vlaue is\n",
    "                        retieved from the array of an index.\n",
    "\n",
    "        How does it relate to dictionaries in python?\n",
    "        In python, dictionaries are implemented using hash tables.This means that:\n",
    "        - Fast access:\n",
    "                     You can quickly access values using their keys because the hash function\n",
    "                     provides a direct index to the value.\n",
    "        - Unordered:\n",
    "                    The order of elements in a dictionary is not guranteed because\n",
    "                    the hash function determines where each key value pair is\n",
    "                    stored."
   ]
  },
  {
   "cell_type": "markdown",
   "id": "cc7418cd-e31e-4f91-8b09-e9e41e568c78",
   "metadata": {},
   "source": [
    "#Q9. Can lists contain different data types in Python?\n",
    "\n",
    "ANS9. Yes, list can contain different data types like string , numbers, tuple, sets, dictionaries etc.\n"
   ]
  },
  {
   "cell_type": "code",
   "execution_count": 20,
   "id": "4d393fe0-3352-468f-90ba-5e5c9fde32a5",
   "metadata": {},
   "outputs": [],
   "source": [
    "#ANS9.  \n",
    "l9 = [(1, 2, 3), {4, 5, 6, 7}, {1: 67, 'akki': 'j'}]"
   ]
  },
  {
   "cell_type": "markdown",
   "id": "4e2fc0f9-d9c7-4c74-a4fe-f71f3f1e9f86",
   "metadata": {},
   "source": [
    "#Q10. Explain why strings are immutable in Python.\n",
    "\n",
    "ANS10. String is sequence of characters. String are immutable in nature because string cannot be changed after        \n",
    "        they are created. String does not support appending, removing and inserting elements."
   ]
  },
  {
   "cell_type": "markdown",
   "id": "88c09b6c-21d6-4be4-9e62-dddd8ad6ffe0",
   "metadata": {},
   "source": [
    "#Q11.What advantages do dictionaries offer over lists for certain tasks?\n",
    "\n",
    "ANS 11. - Avoiding duplicates:\n",
    "\n",
    "                        Dictionaries avoid duplicate keys, ensuring that each key is unique. \n",
    "                        List contain duplicate elements, which may not desirable for certain tasks.\n",
    "        - Fast lookups:\n",
    "                     Dictionaries can be faster than list for certain operations. In dictionaries,\n",
    "                     we can quickly retrieve the value based on keys. On the other hand, list\n",
    "                     search through entire list to find out an element.\n",
    "        - Efficient updates: \n",
    "                     Updating values in dictionaries is more easy because we can quickly update the \n",
    "                     value by accessing the keys. \n",
    "                     In list first we have to find out the index of element than we update the value\n",
    "                     which make list less efficient.\n",
    "        - Flexible Keys:\n",
    "                     Dictionary keys can be of various data type (String, numbers, tuples),\n",
    "                     allowing more flexibility in how you organize and access the data.\n",
    "                     Lists however, are indexed by integer, limiting theie flexibility.\n",
    "\n"
   ]
  },
  {
   "cell_type": "markdown",
   "id": "e74d2353-13ee-4fe3-8623-1e520a0fcb1d",
   "metadata": {},
   "source": [
    "#Q12.  Describe a scenario where using a tuple would be preferable over a list.\n",
    "\n",
    "Ans 12. Here the scenario where using a tuple would be preferable over a list.\n",
    "\n",
    "       Imagine you are working on a program that deals with days of the week. The days of the week\n",
    "       are fixed and do not change, here tuple would be more appropriate than a list because\n",
    "       tuple are immutable their elements can not be changed after they are created.\n",
    "\n",
    "       For example\n",
    "       day_of_week = (\"Monday\", \"Tuesday\",\"Wednesday\",\"thursday\",\"Fri\", \"Sat\",\"Sun\" )\n",
    "\n",
    "       Here, tuple ensure integrity of the data which means data remain constant and it can \n",
    "       not be accidentally modified elsewhere in program.\n",
    "\n",
    "       On the other hand, in list there would be risk of accidentally changing the values,\n",
    "       which could lead to error in the program.\n",
    "           "
   ]
  },
  {
   "cell_type": "code",
   "execution_count": 15,
   "id": "45c4590f-e492-4620-9fb9-7dc228ee9687",
   "metadata": {},
   "outputs": [
    {
     "data": {
      "text/plain": [
       "{1, 2, 3, 4, 6, 7, 8, 9}"
      ]
     },
     "execution_count": 15,
     "metadata": {},
     "output_type": "execute_result"
    }
   ],
   "source": [
    "#Q13.  How do sets handle duplicate values in Python?\n",
    "\n",
    "#ANS13. Set automatically handle duplicate values by ensuring that each element in the set is \n",
    "       #unique. When you enter elements in the set it automatically removed the duplicate \n",
    "       #values.\n",
    "       #For example\n",
    "\n",
    "st = {1,2,3,3,4,3,2,2,6,7,8,9,9}\n",
    "st\n",
    "#output   {1, 2, 3, 4, 6, 7, 8, 9} # it autmatically remove duplicate values.\n"
   ]
  },
  {
   "cell_type": "markdown",
   "id": "671e2b2a-4ca6-473c-b937-5222d877372c",
   "metadata": {},
   "source": [
    "#Q14. How does the “in” keyword work differently for lists and dictionaries.\n",
    "\n",
    "Ans14  Lists: The \"in\" keyword checks if a value exists in a list.\n",
    "       Dictionary: The \"in\" keyword checks if a key exists in the dictionary.\n",
    "\n",
    "       The main difference of \"in\" keyword is of time complexity. \n",
    "       -In lists the time complexity is O(n)(linear time). This is because\n",
    "        It may need to check each element in the list to determine if the value is\n",
    "        present.\n",
    "       -In dictionary the time complexity is O(1)(constant time), due to hash table\n",
    "       implementation.\n",
    "       This means it takes constant time to check if a key is present.\n",
    "                 \n",
    "     "
   ]
  },
  {
   "cell_type": "markdown",
   "id": "bec0ec24-584d-41ce-8db7-87b694af95c1",
   "metadata": {},
   "source": [
    "#Q15. Can you modify the elements of a tuple? Explain why or why not.\n",
    "\n",
    "ANS15. No, we can't modify the elements of tuple because of immutability. Modifying the element of tuple raise error. \n",
    "       Tuple once created its elements can't be changed, removed and added."
   ]
  },
  {
   "cell_type": "code",
   "execution_count": 42,
   "id": "f2bc19b6-faa5-4039-9a0a-3c0e185bb5fc",
   "metadata": {},
   "outputs": [
    {
     "data": {
      "text/plain": [
       "{'Class1': {'name': 'Harsh',\n",
       "  'Age': '8',\n",
       "  'grade': {'math': 'a+', 'science': 'c+'}},\n",
       " 'Class 2': {'name': 'Akki',\n",
       "  'Age': '14',\n",
       "  'grade': {'math': 'c', 'science': 'b'}}}"
      ]
     },
     "execution_count": 42,
     "metadata": {},
     "output_type": "execute_result"
    }
   ],
   "source": [
    "#Q16. What is a nested dictionary, and give an example of its use case.\n",
    "\n",
    "#ANS16. Nested dictionary is a dictionary within a dictionary.\n",
    "\n",
    "School_data = {\"Class1\": {\"name\":\"Harsh\", \"Age\": \"8\",\"grade\":{\"math\": 'a+',\"science\": 'c+' }},\n",
    "               \"Class 2\": {\"name\": \"Akki\", \"Age\": \"14\",\"grade\":{\"math\": 'c',\"science\": 'b'}}}\n",
    "\n",
    "#In this example school_data is a nested dictionary where each class has their own dictionary\n",
    "# containing name, age and nested grade dictionary.\n",
    "\n",
    "# Use cases\n",
    " #- This is useful for orgainizing data hierarchially or representing complex data.\n",
    " # - Nested dictionary allows you to easily access complex data like above. In above example,\n",
    " # we can easily access the name, age and grade by calling the class key.\n",
    " "
   ]
  },
  {
   "cell_type": "code",
   "execution_count": null,
   "id": "1d003ce5-f3ee-43a9-a1be-14dddf4a8d4d",
   "metadata": {},
   "outputs": [],
   "source": [
    "#Q17. Describe the time complexity of accessing elements in a dictionary.\n",
    "\n",
    "'''ANS 17\n",
    "       Average case:\n",
    "                  In dictionary the data is stored in key-value pair. Accessing\n",
    "                  the element in a dictionary is very fast, with an average time\n",
    "                  complexity of O(1)(constant time) which means it takes the \n",
    "                  same amount of time to retrieve the value, no matter how \n",
    "                  many elements are in the dictionary.\n",
    "                  \n",
    "        Worst case:\n",
    "                 In rare case, if many keys hash to the same index, the time\n",
    "                 comlexity can degrade to O(n)(linear time), which means\n",
    "                 that the runtime of an operation grows linearly with the \n",
    "                 size of the input.'''"
   ]
  },
  {
   "cell_type": "code",
   "execution_count": null,
   "id": "b67f7cb6-d7f5-48a1-bde1-319a1da5ea21",
   "metadata": {},
   "outputs": [],
   "source": [
    "#Q18. In what situations are lists preferred over dictionaries.\n",
    "\n",
    "'''Ans18. - List is a ordered collection of elements that can be of any data type.\n",
    "        \n",
    "        Ordered data:\n",
    "                    List maintain the order of elements,which is usefull when\n",
    "                    sequence of item matters\n",
    "                    For example: if you want arrange the number in ascending order\n",
    "                    than list is ideal.\n",
    "\n",
    "        Index Based Access:\n",
    "                    Dictionary stores the data in key value pair and in list you\n",
    "                    can access the elements by their position using an index which\n",
    "                    is handy when you want to retrieve elements based on the \n",
    "                    position in the list.\n",
    "\n",
    "        Duplicate items:\n",
    "                    In list we can store the data mulitple times it allow duplication\n",
    "                    while in dictionary keys are unique. \n",
    "\n",
    "        Memory efficincy:\n",
    "                    Lists generally consume less memory compared to dictionaries,\n",
    "                    making them more efficient for storing large collection of data.'''\n",
    "                    "
   ]
  },
  {
   "cell_type": "markdown",
   "id": "fe5a71bc-36b9-4536-bfe6-e348b3a65122",
   "metadata": {},
   "source": [
    "#Q19.  Why are dictionaries considered unordered, and how does that affect data retrieval?\n",
    "\n",
    "ANS19.  Dictionary store the data as a key value pair. It is unordered because in\n",
    "        dictionary you can not access the data using index value thats why it does not\n",
    "        maintain any specific order for the elements.\n",
    "\n",
    "        Here how this affects data retrival:\n",
    "        - Efficient lookups:\n",
    "                  Dictionary store the data as a key value pair which provide fast\n",
    "                  lookups. You can quickly access the value by its key.\n",
    "        - Insertion and deletion:\n",
    "                  In dictionary you can quickly insert the value by update method\n",
    "                  and delete the value del method.\n",
    "       - Unpredictable Order:\n",
    "                  Since dictionary do not maintain order, the order of elements \n",
    "                  can be chnage if the dictionary is modified."
   ]
  },
  {
   "cell_type": "markdown",
   "id": "d2cb287d-0e20-4a93-8bbd-f20db50fb0df",
   "metadata": {},
   "source": [
    "#Q20.  Explain the difference between a list and a dictionary in terms of data retrieval.\n",
    "\n",
    "ANS 20. \n",
    "\n",
    "\n",
    "       Lists:\n",
    "        Index based Access:\n",
    "                   In list you can access the element by their using an index.\n",
    "        Ordered:\n",
    "                   List is ordered collection of data, so the sequence in which you \n",
    "                   add the item you preserved.\n",
    "        Iteration:\n",
    "                   In list, you can easily iterate using loop, which makes more\n",
    "                   convienent for operation on each element.\n",
    "\n",
    "        Dictionary:\n",
    "        Key-Based Access:\n",
    "                  Dictionary store the data as a key value pair which means\n",
    "                  you can access the element by their keys.\n",
    "        Unordered:\n",
    "                  Dictionaries do not maintain any specific order for the \n",
    "                  elements they store. So the order of elements can be changed\n",
    "                  when dictionary is modified.\n",
    "        Efficient lookups:\n",
    "                  Dictionary store the data as a key value pair which provide fast\n",
    "                  lookups. You can quickly access the value by its key.\n",
    "                "
   ]
  },
  {
   "cell_type": "code",
   "execution_count": 1,
   "id": "1e9135f0-f4b3-4823-9744-06876e91842c",
   "metadata": {},
   "outputs": [
    {
     "name": "stdout",
     "output_type": "stream",
     "text": [
      "Harsh\n"
     ]
    }
   ],
   "source": [
    "#Q1. Write a code to create a string with your name and print it\n",
    "name = \"Harsh\"\n",
    "print(name)"
   ]
  },
  {
   "cell_type": "code",
   "execution_count": null,
   "id": "ad7ddf31-442b-41f6-9e57-32c0a5212675",
   "metadata": {},
   "outputs": [],
   "source": []
  },
  {
   "cell_type": "code",
   "execution_count": 3,
   "id": "dc246816-a740-4586-8efe-7c48f5ba0a50",
   "metadata": {},
   "outputs": [
    {
     "data": {
      "text/plain": [
       "11"
      ]
     },
     "execution_count": 3,
     "metadata": {},
     "output_type": "execute_result"
    }
   ],
   "source": [
    "#Q2. Write a code to find the length of the string \"Hello World\"\n",
    "\n",
    "a = \"Hello World\"\n",
    "len(a)"
   ]
  },
  {
   "cell_type": "code",
   "execution_count": 5,
   "id": "19b3f193-8705-4dd3-8898-efda73921f59",
   "metadata": {},
   "outputs": [
    {
     "data": {
      "text/plain": [
       "'Pyt'"
      ]
     },
     "execution_count": 5,
     "metadata": {},
     "output_type": "execute_result"
    }
   ],
   "source": [
    "#Q3.  Write a code to slice the first 3 characters from the string \"Python Programming\".\n",
    "a1 = \"Python Programming\"\n",
    "a1[:3]"
   ]
  },
  {
   "cell_type": "code",
   "execution_count": 21,
   "id": "d333aa20-d28e-4325-b666-c6e3e7506ee3",
   "metadata": {},
   "outputs": [
    {
     "data": {
      "text/plain": [
       "'HELLO'"
      ]
     },
     "execution_count": 21,
     "metadata": {},
     "output_type": "execute_result"
    }
   ],
   "source": [
    "#Q4.  Write a code to convert the string \"hello\" to uppercase.\n",
    "\n",
    "a2 = \"Hello\"\n",
    "a2.upper()\n"
   ]
  },
  {
   "cell_type": "code",
   "execution_count": 31,
   "id": "392bbd84-d5e5-4d9d-a0de-45d9bb3c023d",
   "metadata": {},
   "outputs": [
    {
     "data": {
      "text/plain": [
       "'I like orange'"
      ]
     },
     "execution_count": 31,
     "metadata": {},
     "output_type": "execute_result"
    }
   ],
   "source": [
    "#Q5. Write a code to replace the word \"apple\" with \"orange\" in the string \"I like apple\"\n",
    "\n",
    "s = \"I like apple\"\n",
    "s.replace(\"apple\",\"orange\") "
   ]
  },
  {
   "cell_type": "code",
   "execution_count": 3,
   "id": "93c7d2c4-38a3-4a20-88c2-856e5c574b5a",
   "metadata": {},
   "outputs": [
    {
     "data": {
      "text/plain": [
       "[1, 2, 3, 4, 5]"
      ]
     },
     "execution_count": 3,
     "metadata": {},
     "output_type": "execute_result"
    }
   ],
   "source": [
    "#Q6. Write a code to create a list with numbers 1 to 5 and print it\n",
    "\n",
    "l = list(range(1,6))\n",
    "l"
   ]
  },
  {
   "cell_type": "code",
   "execution_count": 5,
   "id": "1af5070b-c667-48a0-8a7b-2a56ef2f1fd2",
   "metadata": {},
   "outputs": [
    {
     "data": {
      "text/plain": [
       "[1, 2, 3, 4, 10]"
      ]
     },
     "execution_count": 5,
     "metadata": {},
     "output_type": "execute_result"
    }
   ],
   "source": [
    "#Q7. Write a code to append the number 10 to the list [1, 2, 3, 4].\n",
    "\n",
    "l1 = [1,2,3,4]\n",
    "l1.append(10)\n",
    "l1"
   ]
  },
  {
   "cell_type": "code",
   "execution_count": 57,
   "id": "7e668e8a-2957-4e26-84b4-5705b541ef15",
   "metadata": {},
   "outputs": [
    {
     "data": {
      "text/plain": [
       "[1, 2, 4, 5]"
      ]
     },
     "execution_count": 57,
     "metadata": {},
     "output_type": "execute_result"
    }
   ],
   "source": [
    "#Q8.  Write a code to remove the number 3 from the list [1, 2, 3, 4, 5]\n",
    "\n",
    "l2 = [1,2,3,4,5]\n",
    "l2.remove(3)\n",
    "l2"
   ]
  },
  {
   "cell_type": "code",
   "execution_count": 63,
   "id": "f997bb1d-c818-43ef-9258-3333c982d798",
   "metadata": {},
   "outputs": [
    {
     "data": {
      "text/plain": [
       "'b'"
      ]
     },
     "execution_count": 63,
     "metadata": {},
     "output_type": "execute_result"
    }
   ],
   "source": [
    "#Q9. Write a code to access the second element in the list ['a', 'b', 'c', 'd']\n",
    "\n",
    "l3 = ['a','b','c','d']\n",
    "l3[1]"
   ]
  },
  {
   "cell_type": "code",
   "execution_count": 68,
   "id": "80d9262c-7f7b-4500-9eb6-2d8cdad8ce43",
   "metadata": {},
   "outputs": [
    {
     "data": {
      "text/plain": [
       "[50, 40, 30, 20, 10]"
      ]
     },
     "execution_count": 68,
     "metadata": {},
     "output_type": "execute_result"
    }
   ],
   "source": [
    "#Q10.  Write a code to reverse the list [10, 20, 30, 40, 50].\n",
    "\n",
    "l4 = [10,20,30,40,50]\n",
    "l4[::-1]"
   ]
  },
  {
   "cell_type": "code",
   "execution_count": 72,
   "id": "d38c9dfd-e619-4911-bcce-e4b4244b7af3",
   "metadata": {},
   "outputs": [
    {
     "data": {
      "text/plain": [
       "tuple"
      ]
     },
     "execution_count": 72,
     "metadata": {},
     "output_type": "execute_result"
    }
   ],
   "source": [
    "#Q11. Write a code to create a tuple with the elements 10, 20, 30 and print it.\n",
    "\n",
    "t = (10,20,30)\n",
    "type(t)\n",
    "\n"
   ]
  },
  {
   "cell_type": "code",
   "execution_count": 78,
   "id": "bdd974ce-d9f1-42ca-b043-8eee127c4c4c",
   "metadata": {},
   "outputs": [
    {
     "data": {
      "text/plain": [
       "'apple'"
      ]
     },
     "execution_count": 78,
     "metadata": {},
     "output_type": "execute_result"
    }
   ],
   "source": [
    "#Q12. Write a code to access the first element of the tuple ('apple', 'banana', 'cherry').\n",
    "\n",
    "t1 = ('apple','banana','cherry')\n",
    "t1[0]"
   ]
  },
  {
   "cell_type": "code",
   "execution_count": 82,
   "id": "4c7ef7fc-ad9b-42da-a5f1-44e90e5e7761",
   "metadata": {},
   "outputs": [
    {
     "data": {
      "text/plain": [
       "3"
      ]
     },
     "execution_count": 82,
     "metadata": {},
     "output_type": "execute_result"
    }
   ],
   "source": [
    "#Q13. Write a code to count how many times the number 2 appears in the tuple (1, 2, 3, 2, 4, 2).\n",
    "\n",
    "t2 = (1,2,3,2,4,2)\n",
    "t2.count(2)\n"
   ]
  },
  {
   "cell_type": "code",
   "execution_count": 90,
   "id": "cbdaf26c-fe3c-4455-87c6-362eb55a9dfb",
   "metadata": {},
   "outputs": [
    {
     "data": {
      "text/plain": [
       "1"
      ]
     },
     "execution_count": 90,
     "metadata": {},
     "output_type": "execute_result"
    }
   ],
   "source": [
    "#Q14. Write a code to find the index of the element \"cat\" in the tuple ('dog', 'cat', 'rabbit')\n",
    "\n",
    "t3 = ('dog','cat','rabbit')\n",
    "t3.index(\"cat\")"
   ]
  },
  {
   "cell_type": "code",
   "execution_count": 97,
   "id": "b78a88ed-71a7-42b6-b9e0-3d1913f51bc1",
   "metadata": {},
   "outputs": [
    {
     "name": "stdout",
     "output_type": "stream",
     "text": [
      "yes banana  is in the tuple\n"
     ]
    }
   ],
   "source": [
    "#Q15. Write a code to check if the element \"banana\" is in the tuple ('apple', 'orange', 'banana').\n",
    "\n",
    "t4 = ('apple', 'orange', 'banana')\n",
    "\n",
    "#ANS1 # \"banana\" in t4   : For checking the element is in the tuple\n",
    "\n",
    "#ANS2\n",
    "if \"banana\" in t4:\n",
    "    print(\"yes banana  is in the tuple\")\n",
    "else:\n",
    "    print(\"banana not in the tuple\")\n"
   ]
  },
  {
   "cell_type": "code",
   "execution_count": 151,
   "id": "7fd2933e-ba0e-4a7c-9028-2bcd9a89db91",
   "metadata": {},
   "outputs": [
    {
     "data": {
      "text/plain": [
       "set"
      ]
     },
     "execution_count": 151,
     "metadata": {},
     "output_type": "execute_result"
    }
   ],
   "source": [
    "#Q16. Write a code to create a set with the elements 1, 2, 3, 4, 5 and print it.\n",
    "\n",
    "s = {1,2,3,4,5}\n",
    "type(s)\n"
   ]
  },
  {
   "cell_type": "code",
   "execution_count": 127,
   "id": "a44d17de-3946-43a1-93a3-7f820ce23bfb",
   "metadata": {},
   "outputs": [],
   "source": [
    "#Q17. Write a code to add the element 6 to the set {1, 2, 3, 4}.\n",
    "\n",
    "s1 = {1,2,3,4}\n",
    "\n",
    "s1.add(6)"
   ]
  },
  {
   "cell_type": "code",
   "execution_count": 135,
   "id": "230aec83-7dfa-4eac-99cc-1021528df7f2",
   "metadata": {},
   "outputs": [
    {
     "data": {
      "text/plain": [
       "tuple"
      ]
     },
     "execution_count": 135,
     "metadata": {},
     "output_type": "execute_result"
    }
   ],
   "source": [
    "#Q18.  Write a code to create a tuple with the elements 10, 20, 30 and print it.\n",
    "\n",
    "t5 = (10,20,30)\n",
    "type(t5)"
   ]
  },
  {
   "cell_type": "code",
   "execution_count": 139,
   "id": "3148fa69-dd16-468d-a405-62c328c43c26",
   "metadata": {},
   "outputs": [
    {
     "data": {
      "text/plain": [
       "'apple'"
      ]
     },
     "execution_count": 139,
     "metadata": {},
     "output_type": "execute_result"
    }
   ],
   "source": [
    "#Q19. Write a code to access the first element of the tuple ('apple', 'banana', 'cherry').\n",
    "\n",
    "t6 = ('apple', 'banana', 'cherry')\n",
    "t6[0]"
   ]
  },
  {
   "cell_type": "code",
   "execution_count": 143,
   "id": "4823c500-1008-4c97-b5ae-439052fa283d",
   "metadata": {},
   "outputs": [
    {
     "data": {
      "text/plain": [
       "3"
      ]
     },
     "execution_count": 143,
     "metadata": {},
     "output_type": "execute_result"
    }
   ],
   "source": [
    "#Q20.  Write a code to count how many times the number 2 appears in the tuple (1, 2, 3, 2, 4, 2).\n",
    "\n",
    "t7 = (1,2,3,2,4,2)\n",
    "t7.count(2)"
   ]
  },
  {
   "cell_type": "code",
   "execution_count": 145,
   "id": "1ab34788-c4a9-4e60-8d1f-94128bf3cca4",
   "metadata": {},
   "outputs": [
    {
     "data": {
      "text/plain": [
       "1"
      ]
     },
     "execution_count": 145,
     "metadata": {},
     "output_type": "execute_result"
    }
   ],
   "source": [
    "#Q21. Write a code to find the index of the element \"cat\" in the tuple ('dog', 'cat', 'rabbit')\n",
    "\n",
    "t8 = ('dog', 'cat', 'rabbit')\n",
    "t8.index('cat')"
   ]
  },
  {
   "cell_type": "code",
   "execution_count": 149,
   "id": "b4ffca7b-e3d4-4a11-b7fa-3215613ee1aa",
   "metadata": {},
   "outputs": [
    {
     "name": "stdout",
     "output_type": "stream",
     "text": [
      "Yes banana  is in the tuple\n"
     ]
    }
   ],
   "source": [
    "#Q22.  Write a code to check if the element \"banana\" is in the tuple ('apple', 'orange', 'banana').\n",
    "\n",
    "t9 = ('apple', 'orange', 'banana')\n",
    "\n",
    "#ANS1 # \"banana\" in t4   : For checking the element is in the tuple\n",
    "\n",
    "#ANS2\n",
    "if \"banana\" in t4:\n",
    "    print(\"Yes banana  is in the tuple\")\n",
    "else:\n",
    "    print(\"banana not in the tuple\")\n"
   ]
  },
  {
   "cell_type": "code",
   "execution_count": 153,
   "id": "f1b17ef5-e1be-44ac-9cf4-34904a6a9d12",
   "metadata": {},
   "outputs": [
    {
     "data": {
      "text/plain": [
       "set"
      ]
     },
     "execution_count": 153,
     "metadata": {},
     "output_type": "execute_result"
    }
   ],
   "source": [
    "#Q23.  Write a code to create a set with the elements 1, 2, 3, 4, 5 and print it.\n",
    "\n",
    "s3 = {1,2,3,4,5}\n",
    "type(s3)\n",
    "\n"
   ]
  },
  {
   "cell_type": "code",
   "execution_count": 161,
   "id": "6cee479f-5069-42b2-9422-3106d7bd8819",
   "metadata": {},
   "outputs": [],
   "source": [
    "#Q24. Write a code to add the element 6 to the set {1, 2, 3, 4}\n",
    "\n",
    "s4 = {1,2,3,4}\n",
    "s4.update([6])"
   ]
  },
  {
   "cell_type": "code",
   "execution_count": 163,
   "id": "47f14969-3a07-4725-9e95-946a62b8181a",
   "metadata": {},
   "outputs": [
    {
     "data": {
      "text/plain": [
       "{1, 2, 3, 4, 6}"
      ]
     },
     "execution_count": 163,
     "metadata": {},
     "output_type": "execute_result"
    }
   ],
   "source": [
    "s4"
   ]
  },
  {
   "cell_type": "code",
   "execution_count": null,
   "id": "36321ab7-56ad-46dc-89b4-a58ff72728a9",
   "metadata": {},
   "outputs": [],
   "source": []
  }
 ],
 "metadata": {
  "kernelspec": {
   "display_name": "Python [conda env:base] *",
   "language": "python",
   "name": "conda-base-py"
  },
  "language_info": {
   "codemirror_mode": {
    "name": "ipython",
    "version": 3
   },
   "file_extension": ".py",
   "mimetype": "text/x-python",
   "name": "python",
   "nbconvert_exporter": "python",
   "pygments_lexer": "ipython3",
   "version": "3.12.7"
  }
 },
 "nbformat": 4,
 "nbformat_minor": 5
}
